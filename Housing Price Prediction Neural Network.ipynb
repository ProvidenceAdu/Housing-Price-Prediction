{
 "cells": [
  {
   "cell_type": "code",
   "execution_count": null,
   "metadata": {
    "executionInfo": {
     "elapsed": 2636,
     "status": "ok",
     "timestamp": 1607118597162,
     "user": {
      "displayName": "Prashanth Minkuri",
      "photoUrl": "https://lh3.googleusercontent.com/a-/AOh14GhM-xXFkv0QFgjOCFSZU4OCN9Qc75Maw5bXGonB=s64",
      "userId": "09428725231230823807"
     },
     "user_tz": 300
    },
    "id": "c4PGZgzVsQCJ"
   },
   "outputs": [],
   "source": [
    "import numpy as np\n",
    "import pandas as pd\n",
    "import matplotlib.pyplot as plt\n",
    "import seaborn as sns\n",
    "import mpl_toolkits\n",
    "from scipy.stats import skew,norm\n",
    "\n",
    "import sklearn\n",
    "from sklearn.preprocessing import StandardScaler\n",
    "from sklearn.preprocessing import LabelEncoder \n",
    "from sklearn import metrics \n",
    "\n",
    "%matplotlib inline\n",
    "pd.options.display.float_format = '{:.1f}'.format\n",
    "from scipy import stats\n",
    "\n",
    "import tensorflow as tf\n",
    "from tensorflow import keras"
   ]
  },
  {
   "cell_type": "code",
   "execution_count": null,
   "metadata": {
    "executionInfo": {
     "elapsed": 2628,
     "status": "ok",
     "timestamp": 1607118597163,
     "user": {
      "displayName": "Prashanth Minkuri",
      "photoUrl": "https://lh3.googleusercontent.com/a-/AOh14GhM-xXFkv0QFgjOCFSZU4OCN9Qc75Maw5bXGonB=s64",
      "userId": "09428725231230823807"
     },
     "user_tz": 300
    },
    "id": "-hXkrmZAsQCK"
   },
   "outputs": [],
   "source": [
    "def display(pandas):\n",
    "    with pd.set_option('display.max_columns', None, 'display.max_rows', None):\n",
    "        display(pandas)\n",
    "\n"
   ]
  },
  {
   "cell_type": "code",
   "execution_count": null,
   "metadata": {
    "colab": {
     "base_uri": "https://localhost:8080/"
    },
    "executionInfo": {
     "elapsed": 25401,
     "status": "ok",
     "timestamp": 1607118619943,
     "user": {
      "displayName": "Prashanth Minkuri",
      "photoUrl": "https://lh3.googleusercontent.com/a-/AOh14GhM-xXFkv0QFgjOCFSZU4OCN9Qc75Maw5bXGonB=s64",
      "userId": "09428725231230823807"
     },
     "user_tz": 300
    },
    "id": "Bi25p3TxsXTD",
    "outputId": "470396f9-7e17-4641-a459-7ce56b842a1a"
   },
   "outputs": [],
   "source": [
    "from google.colab import drive\n",
    "drive.mount('/content/drive')"
   ]
  },
  {
   "cell_type": "markdown",
   "metadata": {
    "id": "5FPee8kXsQCK"
   },
   "source": [
    "### Read  Parcel Data"
   ]
  },
  {
   "cell_type": "code",
   "execution_count": null,
   "metadata": {
    "colab": {
     "base_uri": "https://localhost:8080/",
     "height": 932
    },
    "executionInfo": {
     "elapsed": 35862,
     "status": "ok",
     "timestamp": 1607118630412,
     "user": {
      "displayName": "Prashanth Minkuri",
      "photoUrl": "https://lh3.googleusercontent.com/a-/AOh14GhM-xXFkv0QFgjOCFSZU4OCN9Qc75Maw5bXGonB=s64",
      "userId": "09428725231230823807"
     },
     "user_tz": 300
    },
    "id": "I1T0acJSsQCK",
    "outputId": "4590d0cb-3c5e-41b0-a1b7-2a4795386902",
    "scrolled": true
   },
   "outputs": [],
   "source": [
    "housing =  pd.read_csv(\"/content/drive/MyDrive/Colab Notebooks/Parceldata.csv\")\n",
    "housing"
   ]
  },
  {
   "cell_type": "markdown",
   "metadata": {
    "id": "2Qd0ROfpsQCL"
   },
   "source": [
    "### Check parcel columns "
   ]
  },
  {
   "cell_type": "code",
   "execution_count": null,
   "metadata": {
    "colab": {
     "base_uri": "https://localhost:8080/"
    },
    "executionInfo": {
     "elapsed": 35854,
     "status": "ok",
     "timestamp": 1607118630413,
     "user": {
      "displayName": "Prashanth Minkuri",
      "photoUrl": "https://lh3.googleusercontent.com/a-/AOh14GhM-xXFkv0QFgjOCFSZU4OCN9Qc75Maw5bXGonB=s64",
      "userId": "09428725231230823807"
     },
     "user_tz": 300
    },
    "id": "n1QOoS3dsQCL",
    "outputId": "ce7b7a4e-98db-437e-8420-38c2838b2aa1"
   },
   "outputs": [],
   "source": [
    "housing.columns"
   ]
  },
  {
   "cell_type": "markdown",
   "metadata": {
    "id": "VddY203FsQCL"
   },
   "source": [
    "### Check count of features for Crescent and Wedge "
   ]
  },
  {
   "cell_type": "code",
   "execution_count": null,
   "metadata": {
    "colab": {
     "base_uri": "https://localhost:8080/",
     "height": 346
    },
    "executionInfo": {
     "elapsed": 36046,
     "status": "ok",
     "timestamp": 1607118630614,
     "user": {
      "displayName": "Prashanth Minkuri",
      "photoUrl": "https://lh3.googleusercontent.com/a-/AOh14GhM-xXFkv0QFgjOCFSZU4OCN9Qc75Maw5bXGonB=s64",
      "userId": "09428725231230823807"
     },
     "user_tz": 300
    },
    "id": "yxtYoeWosQCL",
    "outputId": "fc3861bc-dfc8-48b6-d58c-11e47b8f3f77"
   },
   "outputs": [],
   "source": [
    "housing['Divide'].value_counts().plot(kind='bar')\n",
    "plt.title('Geographic Variation')\n",
    "plt.xlabel('Divide')\n",
    "plt.ylabel('Count')\n",
    "sns.despine"
   ]
  },
  {
   "cell_type": "markdown",
   "metadata": {
    "id": "_s6YeuZksQCL"
   },
   "source": [
    "### Check number of null values in each of the variables "
   ]
  },
  {
   "cell_type": "code",
   "execution_count": null,
   "metadata": {
    "executionInfo": {
     "elapsed": 36044,
     "status": "ok",
     "timestamp": 1607118630615,
     "user": {
      "displayName": "Prashanth Minkuri",
      "photoUrl": "https://lh3.googleusercontent.com/a-/AOh14GhM-xXFkv0QFgjOCFSZU4OCN9Qc75Maw5bXGonB=s64",
      "userId": "09428725231230823807"
     },
     "user_tz": 300
    },
    "id": "Zt2ZMHYVsQCL"
   },
   "outputs": [],
   "source": [
    "# pd.set_option('display.max_columns', None, 'display.max_rows', None)"
   ]
  },
  {
   "cell_type": "code",
   "execution_count": null,
   "metadata": {
    "colab": {
     "base_uri": "https://localhost:8080/"
    },
    "executionInfo": {
     "elapsed": 36950,
     "status": "ok",
     "timestamp": 1607118631530,
     "user": {
      "displayName": "Prashanth Minkuri",
      "photoUrl": "https://lh3.googleusercontent.com/a-/AOh14GhM-xXFkv0QFgjOCFSZU4OCN9Qc75Maw5bXGonB=s64",
      "userId": "09428725231230823807"
     },
     "user_tz": 300
    },
    "id": "3bGFTE-dsQCL",
    "outputId": "211f8d31-6332-4422-fd2f-4842eb2b3e69"
   },
   "outputs": [],
   "source": [
    "Nullpercent = (housing.isnull().sum()/len(housing))*100\n",
    "Nullpercent.sort_index()"
   ]
  },
  {
   "cell_type": "markdown",
   "metadata": {
    "id": "V_iH39TMsQCL"
   },
   "source": [
    "#### Drop  variables that have null values over 30%"
   ]
  },
  {
   "cell_type": "code",
   "execution_count": null,
   "metadata": {
    "colab": {
     "base_uri": "https://localhost:8080/",
     "height": 796
    },
    "executionInfo": {
     "elapsed": 38152,
     "status": "ok",
     "timestamp": 1607118632740,
     "user": {
      "displayName": "Prashanth Minkuri",
      "photoUrl": "https://lh3.googleusercontent.com/a-/AOh14GhM-xXFkv0QFgjOCFSZU4OCN9Qc75Maw5bXGonB=s64",
      "userId": "09428725231230823807"
     },
     "user_tz": 300
    },
    "id": "UFUXD4U0sQCL",
    "outputId": "c5e8f313-ce83-4685-9d0f-f1f16c34e63c"
   },
   "outputs": [],
   "source": [
    "housing = housing.dropna(axis = 1, thresh = 0.70*len(housing))\n",
    "housing"
   ]
  },
  {
   "cell_type": "markdown",
   "metadata": {
    "id": "jrIphL6NsQCL"
   },
   "source": [
    "### Create a column for the year "
   ]
  },
  {
   "cell_type": "code",
   "execution_count": null,
   "metadata": {
    "colab": {
     "base_uri": "https://localhost:8080/",
     "height": 796
    },
    "executionInfo": {
     "elapsed": 38734,
     "status": "ok",
     "timestamp": 1607118633331,
     "user": {
      "displayName": "Prashanth Minkuri",
      "photoUrl": "https://lh3.googleusercontent.com/a-/AOh14GhM-xXFkv0QFgjOCFSZU4OCN9Qc75Maw5bXGonB=s64",
      "userId": "09428725231230823807"
     },
     "user_tz": 300
    },
    "id": "XTENUqpMsQCL",
    "outputId": "e12f7a97-6198-469b-9731-cd0f2f9a0d7f"
   },
   "outputs": [],
   "source": [
    "housing = housing.assign(Age = 2020 - housing[\"yearbuilt\"])\n",
    "housing = housing.drop(columns = [\"yearbuilt\"] )\n",
    "housing"
   ]
  },
  {
   "cell_type": "markdown",
   "metadata": {
    "id": "_maE7eMVsQCL"
   },
   "source": [
    "###  Drop unwanted columns "
   ]
  },
  {
   "cell_type": "code",
   "execution_count": null,
   "metadata": {
    "executionInfo": {
     "elapsed": 38732,
     "status": "ok",
     "timestamp": 1607118633331,
     "user": {
      "displayName": "Prashanth Minkuri",
      "photoUrl": "https://lh3.googleusercontent.com/a-/AOh14GhM-xXFkv0QFgjOCFSZU4OCN9Qc75Maw5bXGonB=s64",
      "userId": "09428725231230823807"
     },
     "user_tz": 300
    },
    "id": "gadJYJWAsQCL"
   },
   "outputs": [],
   "source": [
    "housing = housing.drop(columns = ['FULL_ADDRESS','OID_', 'ORIG_FID','city','mailaddr1',\n",
    "                'map_block','map_book','map_page','municipality','ownerlastname','ownerfirstname','ownertype','parcel_type',\n",
    "                'pid','state','stdir','stname','stsuffix','sttype','taxfire', 'accounttype','descbuildingtype',\n",
    "                'propertyusecode', 'netbldgvalue', 'extravaluefeature','landvalue','totalvalue',\n",
    "                'lot_num','nc_pin','legal_from','commonpid','taxpid','houseno','cardno','deedbook','deedpage','legalreference',\n",
    "                'neighbourhood','parlegaldesc','landsequenceno', 'FamilyPovertyRate', 'Total_Households', 'FamiliesInPoverty', 'FID_Parcels',\n",
    "                'TotalFamilies','typeofdeed','taxmun','landusecode', 'physicaldepcode', 'ownerno','codemunicipality','zipcode',\n",
    "                'vacantorimproved','foundation','extwall','ownerno','TotalFamilies','FID_HHincome','codemunicipality',\n",
    "                'condo_town_flag','cdebuilding','actype', 'cdebuilding', 'aheatingtype', 'fireplaces' ])\n"
   ]
  },
  {
   "cell_type": "code",
   "execution_count": null,
   "metadata": {
    "colab": {
     "base_uri": "https://localhost:8080/"
    },
    "executionInfo": {
     "elapsed": 38724,
     "status": "ok",
     "timestamp": 1607118633332,
     "user": {
      "displayName": "Prashanth Minkuri",
      "photoUrl": "https://lh3.googleusercontent.com/a-/AOh14GhM-xXFkv0QFgjOCFSZU4OCN9Qc75Maw5bXGonB=s64",
      "userId": "09428725231230823807"
     },
     "user_tz": 300
    },
    "id": "wlT6rsz9sQCL",
    "outputId": "310f9c08-e30d-4791-eca8-f81e5a1f1097",
    "scrolled": false
   },
   "outputs": [],
   "source": [
    "housing.columns"
   ]
  },
  {
   "cell_type": "markdown",
   "metadata": {
    "id": "VGU4cbuVsQCM"
   },
   "source": [
    "### Check statistics for each of the variable"
   ]
  },
  {
   "cell_type": "code",
   "execution_count": null,
   "metadata": {
    "colab": {
     "base_uri": "https://localhost:8080/",
     "height": 0
    },
    "executionInfo": {
     "elapsed": 38717,
     "status": "ok",
     "timestamp": 1607118633333,
     "user": {
      "displayName": "Prashanth Minkuri",
      "photoUrl": "https://lh3.googleusercontent.com/a-/AOh14GhM-xXFkv0QFgjOCFSZU4OCN9Qc75Maw5bXGonB=s64",
      "userId": "09428725231230823807"
     },
     "user_tz": 300
    },
    "id": "d7TfBXd9sQCM",
    "outputId": "4701c9a0-b835-4ca5-c453-649f4d25928e"
   },
   "outputs": [],
   "source": [
    "housing.head()"
   ]
  },
  {
   "cell_type": "code",
   "execution_count": null,
   "metadata": {
    "executionInfo": {
     "elapsed": 38963,
     "status": "ok",
     "timestamp": 1607118633582,
     "user": {
      "displayName": "Prashanth Minkuri",
      "photoUrl": "https://lh3.googleusercontent.com/a-/AOh14GhM-xXFkv0QFgjOCFSZU4OCN9Qc75Maw5bXGonB=s64",
      "userId": "09428725231230823807"
     },
     "user_tz": 300
    },
    "id": "K_sG7uXKsQCM"
   },
   "outputs": [],
   "source": [
    "housing = housing.dropna()"
   ]
  },
  {
   "cell_type": "code",
   "execution_count": null,
   "metadata": {
    "colab": {
     "base_uri": "https://localhost:8080/",
     "height": 0
    },
    "executionInfo": {
     "elapsed": 38955,
     "status": "ok",
     "timestamp": 1607118633583,
     "user": {
      "displayName": "Prashanth Minkuri",
      "photoUrl": "https://lh3.googleusercontent.com/a-/AOh14GhM-xXFkv0QFgjOCFSZU4OCN9Qc75Maw5bXGonB=s64",
      "userId": "09428725231230823807"
     },
     "user_tz": 300
    },
    "id": "05bUR7wrsQCM",
    "outputId": "66d7837e-0ec6-4446-d018-80cb5e24537e",
    "scrolled": false
   },
   "outputs": [],
   "source": [
    "housing.describe().transpose() "
   ]
  },
  {
   "cell_type": "code",
   "execution_count": null,
   "metadata": {
    "colab": {
     "base_uri": "https://localhost:8080/"
    },
    "executionInfo": {
     "elapsed": 39197,
     "status": "ok",
     "timestamp": 1607118633833,
     "user": {
      "displayName": "Prashanth Minkuri",
      "photoUrl": "https://lh3.googleusercontent.com/a-/AOh14GhM-xXFkv0QFgjOCFSZU4OCN9Qc75Maw5bXGonB=s64",
      "userId": "09428725231230823807"
     },
     "user_tz": 300
    },
    "id": "GEIrJEfNsQCM",
    "outputId": "56612512-66ff-452a-e594-c92cd2eee80d"
   },
   "outputs": [],
   "source": [
    "cleandata = (housing.isnull().sum()/len(housing))*100\n",
    "cleandata"
   ]
  },
  {
   "cell_type": "code",
   "execution_count": null,
   "metadata": {
    "colab": {
     "base_uri": "https://localhost:8080/"
    },
    "executionInfo": {
     "elapsed": 39190,
     "status": "ok",
     "timestamp": 1607118633834,
     "user": {
      "displayName": "Prashanth Minkuri",
      "photoUrl": "https://lh3.googleusercontent.com/a-/AOh14GhM-xXFkv0QFgjOCFSZU4OCN9Qc75Maw5bXGonB=s64",
      "userId": "09428725231230823807"
     },
     "user_tz": 300
    },
    "id": "__xvI4gDsQCM",
    "outputId": "4ee00cf3-db91-4954-d80c-d2b979a83ca8"
   },
   "outputs": [],
   "source": [
    "housing.dtypes"
   ]
  },
  {
   "cell_type": "markdown",
   "metadata": {
    "id": "YAbi0BuMsQCM"
   },
   "source": [
    "### Review and convert categorical variables"
   ]
  },
  {
   "cell_type": "code",
   "execution_count": null,
   "metadata": {
    "colab": {
     "base_uri": "https://localhost:8080/",
     "height": 0
    },
    "executionInfo": {
     "elapsed": 39182,
     "status": "ok",
     "timestamp": 1607118633835,
     "user": {
      "displayName": "Prashanth Minkuri",
      "photoUrl": "https://lh3.googleusercontent.com/a-/AOh14GhM-xXFkv0QFgjOCFSZU4OCN9Qc75Maw5bXGonB=s64",
      "userId": "09428725231230823807"
     },
     "user_tz": 300
    },
    "id": "I6Ho0oGDsQCM",
    "outputId": "05bdfad5-b5ff-44a4-ec7a-8aba523faad2"
   },
   "outputs": [],
   "source": [
    "housing "
   ]
  },
  {
   "cell_type": "code",
   "execution_count": null,
   "metadata": {
    "colab": {
     "base_uri": "https://localhost:8080/"
    },
    "executionInfo": {
     "elapsed": 39174,
     "status": "ok",
     "timestamp": 1607118633835,
     "user": {
      "displayName": "Prashanth Minkuri",
      "photoUrl": "https://lh3.googleusercontent.com/a-/AOh14GhM-xXFkv0QFgjOCFSZU4OCN9Qc75Maw5bXGonB=s64",
      "userId": "09428725231230823807"
     },
     "user_tz": 300
    },
    "id": "i1gGVzdJsQCM",
    "outputId": "a2b86a60-af37-4a20-c277-9e07cf349c51"
   },
   "outputs": [],
   "source": [
    " housing.groupby(\"storyheight\").size()"
   ]
  },
  {
   "cell_type": "code",
   "execution_count": null,
   "metadata": {
    "executionInfo": {
     "elapsed": 39172,
     "status": "ok",
     "timestamp": 1607118633836,
     "user": {
      "displayName": "Prashanth Minkuri",
      "photoUrl": "https://lh3.googleusercontent.com/a-/AOh14GhM-xXFkv0QFgjOCFSZU4OCN9Qc75Maw5bXGonB=s64",
      "userId": "09428725231230823807"
     },
     "user_tz": 300
    },
    "id": "P6jL1a7VsQCM",
    "scrolled": true
   },
   "outputs": [],
   "source": [
    "## Rename GOOD 06 as GOOD\n",
    "housing.bldggrade[housing.bldggrade == \"GOOD 06\"] = \"GOOD\"\n",
    "\n",
    "## Rename Blank story height as 1 STORY\n",
    "\n",
    "housing.storyheight[housing.storyheight == \" \"] = \"1 STORY\""
   ]
  },
  {
   "cell_type": "markdown",
   "metadata": {
    "id": "xRrgR-F_sQCM"
   },
   "source": [
    "#### Use Label Encoder to Convert Catetgorical variable to numeric"
   ]
  },
  {
   "cell_type": "code",
   "execution_count": null,
   "metadata": {
    "colab": {
     "base_uri": "https://localhost:8080/",
     "height": 0
    },
    "executionInfo": {
     "elapsed": 39367,
     "status": "ok",
     "timestamp": 1607118634039,
     "user": {
      "displayName": "Prashanth Minkuri",
      "photoUrl": "https://lh3.googleusercontent.com/a-/AOh14GhM-xXFkv0QFgjOCFSZU4OCN9Qc75Maw5bXGonB=s64",
      "userId": "09428725231230823807"
     },
     "user_tz": 300
    },
    "id": "6kDhtdScsQCM",
    "outputId": "3208a278-9261-43d0-fb4a-172b16ab39b6"
   },
   "outputs": [],
   "source": [
    "Labelencoder = LabelEncoder()\n",
    "\n",
    "housing['Divide_transformed'] = Labelencoder.fit_transform(housing[\"Divide\"])\n",
    "housing['bldggrade_transformed'] = Labelencoder.fit_transform(housing[\"bldggrade\"])\n",
    "housing['heatedfuel_transformed'] = Labelencoder.fit_transform(housing[\"heatedfuel\"])\n",
    "housing['storyheight_transformed'] = Labelencoder.fit_transform(housing[\"storyheight\"])\n",
    "housing\n"
   ]
  },
  {
   "cell_type": "code",
   "execution_count": null,
   "metadata": {
    "executionInfo": {
     "elapsed": 39366,
     "status": "ok",
     "timestamp": 1607118634040,
     "user": {
      "displayName": "Prashanth Minkuri",
      "photoUrl": "https://lh3.googleusercontent.com/a-/AOh14GhM-xXFkv0QFgjOCFSZU4OCN9Qc75Maw5bXGonB=s64",
      "userId": "09428725231230823807"
     },
     "user_tz": 300
    },
    "id": "9REZCbL3sQCM"
   },
   "outputs": [],
   "source": [
    "# ## Covert divide to 1 and 0, Crescent = 1, Wedge = 0\n",
    "# housing.Divide[housing.Divide == \"Crescent\"] = 1\n",
    "# housing.Divide[housing.Divide == \"Wedge\"] = 0\n",
    "\n",
    "# ###Convert building grade \n",
    "# housing.bldggrade[housing.bldggrade == \"AVERAGE\"] = 1\n",
    "# housing.bldggrade[housing.bldggrade == \"CUSTOM\"] = 2\n",
    "# housing.bldggrade[housing.bldggrade == \"EXCELLENT\"] = 3\n",
    "# housing.bldggrade[housing.bldggrade == \"FAIR\"] = 4\n",
    "# housing.bldggrade[housing.bldggrade == \"GOOD\"] = 5\n",
    "# housing.bldggrade[housing.bldggrade == \"GOOD 06\"] = 5\n",
    "# housing.bldggrade[housing.bldggrade == \"MINIMUM\"] = 6\n",
    "# housing.bldggrade[housing.bldggrade == \"VERY GOOD\"] = 7\n",
    "\n",
    "# ##convert heated fuel\n",
    "# housing.heatedfuel[housing.heatedfuel == \"ELECTRIC\"] = 1\n",
    "# housing.heatedfuel[housing.heatedfuel == \"GAS\"] = 2 \n",
    "# housing.heatedfuel[housing.heatedfuel == \"NONE\"] = 3\n",
    "# housing.heatedfuel[housing.heatedfuel == \" \"] = 3\n",
    "# housing.heatedfuel[housing.heatedfuel == \"OIL/WD/COAL\"] = 4\n",
    "# housing.heatedfuel[housing.heatedfuel == \"SOLAR/GEOTHRM\"] = 5"
   ]
  },
  {
   "cell_type": "code",
   "execution_count": null,
   "metadata": {
    "colab": {
     "base_uri": "https://localhost:8080/"
    },
    "executionInfo": {
     "elapsed": 39554,
     "status": "ok",
     "timestamp": 1607118634235,
     "user": {
      "displayName": "Prashanth Minkuri",
      "photoUrl": "https://lh3.googleusercontent.com/a-/AOh14GhM-xXFkv0QFgjOCFSZU4OCN9Qc75Maw5bXGonB=s64",
      "userId": "09428725231230823807"
     },
     "user_tz": 300
    },
    "id": "VJm1Kk50sQCM",
    "outputId": "d66e470b-206f-4b69-c375-2745435a9b12"
   },
   "outputs": [],
   "source": [
    " housing.groupby(\"descpropertyuse\").size()"
   ]
  },
  {
   "cell_type": "markdown",
   "metadata": {
    "id": "rkp9UgZ0sQCM"
   },
   "source": [
    "### We are only interested in single family, Multi family, Condos, and Townhomes"
   ]
  },
  {
   "cell_type": "code",
   "execution_count": null,
   "metadata": {
    "executionInfo": {
     "elapsed": 39552,
     "status": "ok",
     "timestamp": 1607118634236,
     "user": {
      "displayName": "Prashanth Minkuri",
      "photoUrl": "https://lh3.googleusercontent.com/a-/AOh14GhM-xXFkv0QFgjOCFSZU4OCN9Qc75Maw5bXGonB=s64",
      "userId": "09428725231230823807"
     },
     "user_tz": 300
    },
    "id": "scz6fBqmsQCM"
   },
   "outputs": [],
   "source": [
    "### Filter Single Family, Multi Family and Condos \n",
    "\n",
    "singlefamily = housing[housing[\"descpropertyuse\"] == \"Single-Family\"] \n",
    "multifamily = housing[housing[\"descpropertyuse\"] == \"Multi-Family\"] \n",
    "Condo = housing[housing[\"descpropertyuse\"] == \"Condo/Townhome\"] \n",
    "\n",
    "housing = pd.concat([singlefamily,multifamily,Condo], axis = 0)"
   ]
  },
  {
   "cell_type": "code",
   "execution_count": null,
   "metadata": {
    "colab": {
     "base_uri": "https://localhost:8080/",
     "height": 0
    },
    "executionInfo": {
     "elapsed": 40336,
     "status": "ok",
     "timestamp": 1607118635027,
     "user": {
      "displayName": "Prashanth Minkuri",
      "photoUrl": "https://lh3.googleusercontent.com/a-/AOh14GhM-xXFkv0QFgjOCFSZU4OCN9Qc75Maw5bXGonB=s64",
      "userId": "09428725231230823807"
     },
     "user_tz": 300
    },
    "id": "aWkLKQ8VsQCM",
    "outputId": "2945cdd3-daba-4732-a2c9-da6df98aa739"
   },
   "outputs": [],
   "source": [
    "corrmat = housing.corr()\n",
    "f, ax = plt.subplots(figsize=(12, 9))\n",
    "sns.heatmap(corrmat,vmax=0.9, square=True,fmt= '.2f',annot_kws={'size': 10})\n",
    "plt.show();"
   ]
  },
  {
   "cell_type": "code",
   "execution_count": null,
   "metadata": {
    "colab": {
     "base_uri": "https://localhost:8080/"
    },
    "executionInfo": {
     "elapsed": 40330,
     "status": "ok",
     "timestamp": 1607118635028,
     "user": {
      "displayName": "Prashanth Minkuri",
      "photoUrl": "https://lh3.googleusercontent.com/a-/AOh14GhM-xXFkv0QFgjOCFSZU4OCN9Qc75Maw5bXGonB=s64",
      "userId": "09428725231230823807"
     },
     "user_tz": 300
    },
    "id": "ZxjrMtRvsQCN",
    "outputId": "97b35376-8ce3-49eb-e6b9-4287b2cec109"
   },
   "outputs": [],
   "source": [
    "housing.columns"
   ]
  },
  {
   "cell_type": "code",
   "execution_count": null,
   "metadata": {
    "colab": {
     "base_uri": "https://localhost:8080/",
     "height": 0
    },
    "executionInfo": {
     "elapsed": 40324,
     "status": "ok",
     "timestamp": 1607118635029,
     "user": {
      "displayName": "Prashanth Minkuri",
      "photoUrl": "https://lh3.googleusercontent.com/a-/AOh14GhM-xXFkv0QFgjOCFSZU4OCN9Qc75Maw5bXGonB=s64",
      "userId": "09428725231230823807"
     },
     "user_tz": 300
    },
    "id": "9jCKRbTbsQCN",
    "outputId": "c38d5ce2-c5fc-4548-a821-19e089fb879c"
   },
   "outputs": [],
   "source": [
    "### Delete original columns for building grade, Divide, heatedfuel and storyheight\n",
    "\n",
    "housing = housing.drop(columns = ['bldggrade', 'heatedfuel', \"Divide\",'descpropertyuse', 'storyheight'] )\n",
    "housing "
   ]
  },
  {
   "cell_type": "code",
   "execution_count": null,
   "metadata": {
    "colab": {
     "base_uri": "https://localhost:8080/"
    },
    "executionInfo": {
     "elapsed": 40318,
     "status": "ok",
     "timestamp": 1607118635030,
     "user": {
      "displayName": "Prashanth Minkuri",
      "photoUrl": "https://lh3.googleusercontent.com/a-/AOh14GhM-xXFkv0QFgjOCFSZU4OCN9Qc75Maw5bXGonB=s64",
      "userId": "09428725231230823807"
     },
     "user_tz": 300
    },
    "id": "_gjpbpxgsQCN",
    "outputId": "7257b416-d1ae-4812-cd52-f41d71e2712c"
   },
   "outputs": [],
   "source": [
    "housing.columns"
   ]
  },
  {
   "cell_type": "code",
   "execution_count": null,
   "metadata": {
    "colab": {
     "base_uri": "https://localhost:8080/"
    },
    "executionInfo": {
     "elapsed": 40312,
     "status": "ok",
     "timestamp": 1607118635031,
     "user": {
      "displayName": "Prashanth Minkuri",
      "photoUrl": "https://lh3.googleusercontent.com/a-/AOh14GhM-xXFkv0QFgjOCFSZU4OCN9Qc75Maw5bXGonB=s64",
      "userId": "09428725231230823807"
     },
     "user_tz": 300
    },
    "id": "3FcitNSDsQCN",
    "outputId": "50540e06-320c-47e9-81ba-7e1bd89b9e56"
   },
   "outputs": [],
   "source": [
    "housing = housing.loc[:, ('totalac', 'price', 'heatedarea', 'numfireplaces',\n",
    "       'fullbaths', 'halfbaths', 'bedrooms', 'units',\n",
    "       'Median_Household_Income', 'POINT_X', 'POINT_Y', 'Age', 'Divide_transformed',\n",
    "       'bldggrade_transformed', 'heatedfuel_transformed')]. apply(np.int64)\n",
    "housing.dtypes"
   ]
  },
  {
   "cell_type": "code",
   "execution_count": null,
   "metadata": {
    "colab": {
     "base_uri": "https://localhost:8080/"
    },
    "executionInfo": {
     "elapsed": 40301,
     "status": "ok",
     "timestamp": 1607118635031,
     "user": {
      "displayName": "Prashanth Minkuri",
      "photoUrl": "https://lh3.googleusercontent.com/a-/AOh14GhM-xXFkv0QFgjOCFSZU4OCN9Qc75Maw5bXGonB=s64",
      "userId": "09428725231230823807"
     },
     "user_tz": 300
    },
    "id": "Gi8pIwbDsQCN",
    "outputId": "a80a9fd9-a22e-46b3-ee89-332d6c29119f"
   },
   "outputs": [],
   "source": [
    "housing.dtypes"
   ]
  },
  {
   "cell_type": "code",
   "execution_count": null,
   "metadata": {
    "colab": {
     "base_uri": "https://localhost:8080/",
     "height": 0
    },
    "executionInfo": {
     "elapsed": 42531,
     "status": "ok",
     "timestamp": 1607118637268,
     "user": {
      "displayName": "Prashanth Minkuri",
      "photoUrl": "https://lh3.googleusercontent.com/a-/AOh14GhM-xXFkv0QFgjOCFSZU4OCN9Qc75Maw5bXGonB=s64",
      "userId": "09428725231230823807"
     },
     "user_tz": 300
    },
    "id": "6Jh8jpwksQCN",
    "outputId": "d1caaf80-9407-4a7e-f2cd-e09f8a1641c2"
   },
   "outputs": [],
   "source": [
    "# kernel density plot\n",
    "sns.distplot(housing.price,fit=norm);\n",
    "plt.ylabel =('Frequency')\n",
    "plt.title = ('Price Distribution');\n",
    "#Get the fitted parameters used by the function\n",
    "(mu, sigma) = norm.fit(housing['price']);\n",
    "#QQ plot\n",
    "fig = plt.figure()\n",
    "res = stats.probplot(housing['price'], plot=plt)\n",
    "plt.show()\n",
    "print(\"skewness: %f\" % housing['price'].skew())\n",
    "print(\"kurtosis: %f\" % housing['price'].kurt())"
   ]
  },
  {
   "cell_type": "markdown",
   "metadata": {
    "id": "2mAQruF2sQCN"
   },
   "source": [
    "### Implementation of Neural Network on our housing data\n"
   ]
  },
  {
   "cell_type": "code",
   "execution_count": null,
   "metadata": {
    "executionInfo": {
     "elapsed": 42530,
     "status": "ok",
     "timestamp": 1607118637269,
     "user": {
      "displayName": "Prashanth Minkuri",
      "photoUrl": "https://lh3.googleusercontent.com/a-/AOh14GhM-xXFkv0QFgjOCFSZU4OCN9Qc75Maw5bXGonB=s64",
      "userId": "09428725231230823807"
     },
     "user_tz": 300
    },
    "id": "wroMeYv2sQCN"
   },
   "outputs": [],
   "source": [
    "X=housing.drop(['price'],axis=1)"
   ]
  },
  {
   "cell_type": "code",
   "execution_count": null,
   "metadata": {
    "colab": {
     "base_uri": "https://localhost:8080/"
    },
    "executionInfo": {
     "elapsed": 394,
     "status": "ok",
     "timestamp": 1607123155513,
     "user": {
      "displayName": "Prashanth Minkuri",
      "photoUrl": "https://lh3.googleusercontent.com/a-/AOh14GhM-xXFkv0QFgjOCFSZU4OCN9Qc75Maw5bXGonB=s64",
      "userId": "09428725231230823807"
     },
     "user_tz": 300
    },
    "id": "Luu-YVyjASZi",
    "outputId": "f8c37cec-21f1-42aa-a02d-a20e80ac2480"
   },
   "outputs": [],
   "source": [
    "X.shape"
   ]
  },
  {
   "cell_type": "code",
   "execution_count": null,
   "metadata": {
    "colab": {
     "base_uri": "https://localhost:8080/"
    },
    "executionInfo": {
     "elapsed": 42525,
     "status": "ok",
     "timestamp": 1607118637270,
     "user": {
      "displayName": "Prashanth Minkuri",
      "photoUrl": "https://lh3.googleusercontent.com/a-/AOh14GhM-xXFkv0QFgjOCFSZU4OCN9Qc75Maw5bXGonB=s64",
      "userId": "09428725231230823807"
     },
     "user_tz": 300
    },
    "id": "CGDnlTgEsQCN",
    "outputId": "c96e0fae-0ab6-4844-e5c6-e72b41c2dfe6"
   },
   "outputs": [],
   "source": [
    "T= housing['price'].copy()\n",
    "T=T.values.reshape(-1,1)\n",
    "T"
   ]
  },
  {
   "cell_type": "code",
   "execution_count": null,
   "metadata": {
    "executionInfo": {
     "elapsed": 368,
     "status": "ok",
     "timestamp": 1607118899344,
     "user": {
      "displayName": "Prashanth Minkuri",
      "photoUrl": "https://lh3.googleusercontent.com/a-/AOh14GhM-xXFkv0QFgjOCFSZU4OCN9Qc75Maw5bXGonB=s64",
      "userId": "09428725231230823807"
     },
     "user_tz": 300
    },
    "id": "y6rDyDrusQCN"
   },
   "outputs": [],
   "source": [
    "from sklearn.model_selection import train_test_split\n",
    "X_train, X_test, T_train, T_test = train_test_split(X[:10000],T[:10000], test_size=0.3, random_state=40)\n",
    "X_train=X_train.values\n",
    "X_test=X_test.values"
   ]
  },
  {
   "cell_type": "code",
   "execution_count": null,
   "metadata": {
    "executionInfo": {
     "elapsed": 42522,
     "status": "ok",
     "timestamp": 1607118637271,
     "user": {
      "displayName": "Prashanth Minkuri",
      "photoUrl": "https://lh3.googleusercontent.com/a-/AOh14GhM-xXFkv0QFgjOCFSZU4OCN9Qc75Maw5bXGonB=s64",
      "userId": "09428725231230823807"
     },
     "user_tz": 300
    },
    "id": "HZpQN_VWsQCN"
   },
   "outputs": [],
   "source": [
    "\n",
    "from tensorflow import keras\n",
    "from tensorflow.keras import layers\n",
    "import tensorflow as tf\n",
    "from keras.models import Sequential\n",
    "from keras.initializers import glorot_normal\n",
    "from keras.layers import Dense, Dropout, Flatten, Conv2D, MaxPool2D, Activation\n",
    "from keras.optimizers import RMSprop, Adam\n",
    "from keras.preprocessing.image import ImageDataGenerator\n",
    "from keras.losses import mean_squared_error\n",
    "from sklearn.model_selection import train_test_split\n",
    "from sklearn.metrics import mean_squared_error\n",
    "from sklearn.preprocessing import LabelEncoder"
   ]
  },
  {
   "cell_type": "code",
   "execution_count": null,
   "metadata": {
    "executionInfo": {
     "elapsed": 42516,
     "status": "ok",
     "timestamp": 1607118637271,
     "user": {
      "displayName": "Prashanth Minkuri",
      "photoUrl": "https://lh3.googleusercontent.com/a-/AOh14GhM-xXFkv0QFgjOCFSZU4OCN9Qc75Maw5bXGonB=s64",
      "userId": "09428725231230823807"
     },
     "user_tz": 300
    },
    "id": "XXZEjHwusQCN"
   },
   "outputs": [],
   "source": []
  },
  {
   "cell_type": "code",
   "execution_count": null,
   "metadata": {
    "executionInfo": {
     "elapsed": 499,
     "status": "ok",
     "timestamp": 1607118902429,
     "user": {
      "displayName": "Prashanth Minkuri",
      "photoUrl": "https://lh3.googleusercontent.com/a-/AOh14GhM-xXFkv0QFgjOCFSZU4OCN9Qc75Maw5bXGonB=s64",
      "userId": "09428725231230823807"
     },
     "user_tz": 300
    },
    "id": "PQ1LWLUMsQCN"
   },
   "outputs": [],
   "source": [
    "model = Sequential()\n",
    "model.add(Dense(30, input_dim=14, activation=\"relu\"))\n",
    "model.add(Dense(15, activation=\"relu\"))\n",
    "model.add(Dense(1))\n",
    "model.compile(optimizer='rmsprop', loss='mse')"
   ]
  },
  {
   "cell_type": "code",
   "execution_count": null,
   "metadata": {
    "colab": {
     "base_uri": "https://localhost:8080/"
    },
    "executionInfo": {
     "elapsed": 62170,
     "status": "ok",
     "timestamp": 1607120365337,
     "user": {
      "displayName": "Prashanth Minkuri",
      "photoUrl": "https://lh3.googleusercontent.com/a-/AOh14GhM-xXFkv0QFgjOCFSZU4OCN9Qc75Maw5bXGonB=s64",
      "userId": "09428725231230823807"
     },
     "user_tz": 300
    },
    "id": "axUtiLfSsQCN",
    "outputId": "2242d636-3802-4e94-f07d-149c8b9417e9"
   },
   "outputs": [],
   "source": [
    "#history = model.fit(X_train, T_train, epochs=5, batch_size=1,verbose=2)\n",
    "history = model.fit(X_train, T_train, epochs=100, validation_data=(X_test, T_test), verbose=2)"
   ]
  },
  {
   "cell_type": "code",
   "execution_count": null,
   "metadata": {
    "colab": {
     "base_uri": "https://localhost:8080/",
     "height": 276
    },
    "executionInfo": {
     "elapsed": 465,
     "status": "ok",
     "timestamp": 1607120376557,
     "user": {
      "displayName": "Prashanth Minkuri",
      "photoUrl": "https://lh3.googleusercontent.com/a-/AOh14GhM-xXFkv0QFgjOCFSZU4OCN9Qc75Maw5bXGonB=s64",
      "userId": "09428725231230823807"
     },
     "user_tz": 300
    },
    "id": "76_b7WWlsQCN",
    "outputId": "651998ac-6f2e-4195-b24f-0e51255ad1c9"
   },
   "outputs": [],
   "source": [
    "\n",
    "import matplotlib.pyplot as pyplot\n",
    "\n",
    "#pyplot.title('Loss / Mean Squared Error')\n",
    "pyplot.plot(history.history['loss'], label='train')\n",
    "pyplot.plot(history.history['val_loss'], label='test')\n",
    "pyplot.legend()\n",
    "pyplot.show()\n",
    "\n",
    "#predict = model.predict(test_data)"
   ]
  },
  {
   "cell_type": "code",
   "execution_count": null,
   "metadata": {
    "colab": {
     "base_uri": "https://localhost:8080/",
     "height": 181
    },
    "executionInfo": {
     "elapsed": 605,
     "status": "error",
     "timestamp": 1607120229107,
     "user": {
      "displayName": "Prashanth Minkuri",
      "photoUrl": "https://lh3.googleusercontent.com/a-/AOh14GhM-xXFkv0QFgjOCFSZU4OCN9Qc75Maw5bXGonB=s64",
      "userId": "09428725231230823807"
     },
     "user_tz": 300
    },
    "id": "zTHsdO8S1HAT",
    "outputId": "bc833cae-bea2-45a0-b852-2eb416e99b2d"
   },
   "outputs": [],
   "source": [
    "test_loss, test_acc = model.evaluate(X_test, T_test)"
   ]
  },
  {
   "cell_type": "code",
   "execution_count": null,
   "metadata": {
    "id": "bN9hQ1sn1JBU"
   },
   "outputs": [],
   "source": []
  }
 ],
 "metadata": {
  "accelerator": "GPU",
  "colab": {
   "collapsed_sections": [
    "VGU4cbuVsQCM",
    "YAbi0BuMsQCM",
    "xRrgR-F_sQCM",
    "rkp9UgZ0sQCM"
   ],
   "name": "Housing Price Prediction Neural Network.ipynb",
   "provenance": []
  },
  "kernelspec": {
   "display_name": "Python 3",
   "language": "python",
   "name": "python3"
  },
  "language_info": {
   "codemirror_mode": {
    "name": "ipython",
    "version": 3
   },
   "file_extension": ".py",
   "mimetype": "text/x-python",
   "name": "python",
   "nbconvert_exporter": "python",
   "pygments_lexer": "ipython3",
   "version": "3.8.3"
  }
 },
 "nbformat": 4,
 "nbformat_minor": 1
}
